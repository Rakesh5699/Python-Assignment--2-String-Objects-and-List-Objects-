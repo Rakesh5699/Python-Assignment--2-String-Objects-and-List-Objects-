{
 "cells": [
  {
   "cell_type": "markdown",
   "id": "c7b8a8d8",
   "metadata": {},
   "source": [
    "## Assignment-2:-String, Objects and List Objects"
   ]
  },
  {
   "cell_type": "raw",
   "id": "70fd474e",
   "metadata": {},
   "source": [
    "1.Create the below pattern using nested for loop in Python.<br>\n",
    "*\n",
    "* *\n",
    "* * *\n",
    "* * * *\n",
    "* * * * *\n",
    "* * * *\n",
    "* * *\n",
    "* *\n",
    "*\n"
   ]
  },
  {
   "cell_type": "code",
   "execution_count": 1,
   "id": "94faf552",
   "metadata": {},
   "outputs": [
    {
     "name": "stdout",
     "output_type": "stream",
     "text": [
      "* \n",
      "* * \n",
      "* * * \n",
      "* * * * \n",
      "* * * * * \n",
      "* * * * \n",
      "* * * \n",
      "* * \n",
      "* \n"
     ]
    }
   ],
   "source": [
    "for i in range(1,6):\n",
    "    for j in range(0,i):\n",
    "        print(\"*\",end=\" \") \n",
    "    print()\n",
    "for i in range(4,0,-1):\n",
    "    for j in range(0,i):\n",
    "        print(\"*\",end=\" \")\n",
    "    print()"
   ]
  },
  {
   "cell_type": "markdown",
   "id": "9ade3ff9",
   "metadata": {},
   "source": [
    "2.\tWrite a Python program to reverse a word after accepting the input from the user.\n",
    "\n",
    "        Sample Output:\n",
    "\n",
    "        Input word: <b>ineuron </b><br>\n",
    "        Output: <b>norueni</b>\n"
   ]
  },
  {
   "cell_type": "code",
   "execution_count": 2,
   "id": "9b5f9573",
   "metadata": {},
   "outputs": [
    {
     "name": "stdout",
     "output_type": "stream",
     "text": [
      "Input word:ineuron\n",
      "Output: norueni\n"
     ]
    }
   ],
   "source": [
    "str1 = input(\"Input word:\")\n",
    "print(\"Output:\",str1[::-1])"
   ]
  }
 ],
 "metadata": {
  "kernelspec": {
   "display_name": "Python 3",
   "language": "python",
   "name": "python3"
  },
  "language_info": {
   "codemirror_mode": {
    "name": "ipython",
    "version": 3
   },
   "file_extension": ".py",
   "mimetype": "text/x-python",
   "name": "python",
   "nbconvert_exporter": "python",
   "pygments_lexer": "ipython3",
   "version": "3.8.8"
  }
 },
 "nbformat": 4,
 "nbformat_minor": 5
}
